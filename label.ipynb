{
  "nbformat": 4,
  "nbformat_minor": 0,
  "metadata": {
    "colab": {
      "provenance": []
    },
    "kernelspec": {
      "name": "python3",
      "display_name": "Python 3"
    },
    "language_info": {
      "name": "python"
    }
  },
  "cells": [
    {
      "cell_type": "code",
      "execution_count": null,
      "metadata": {
        "id": "rKdKglE8m8Z1"
      },
      "outputs": [],
      "source": [
        "#labelin sentimen#\n",
        "#Tahap ini memakai modul vader lexicon, jadi data harus ditranslate dulu kedalam bahasa inggris agar bisa diproses nantinya#"
      ]
    },
    {
      "cell_type": "code",
      "source": [
        "#modul yang dibutuhkan untuk translate\n",
        "!pip install googletrans==3.1.0a0\n",
        "import pandas as pd\n",
        "import googletrans\n",
        "from googletrans import Translator\n",
        "translator = Translator()\n",
        "pd.set_option('max_colwidth', 300)"
      ],
      "metadata": {
        "id": "Vv57xb1AnY3c"
      },
      "execution_count": null,
      "outputs": []
    },
    {
      "cell_type": "code",
      "source": [
        "#import modul yang dibuthkan labelin vader\n",
        "import nltk\n",
        "nltk.download('vader_lexicon')\n",
        "from nltk.sentiment.vader import SentimentIntensityAnalyzer\n",
        "sid = SentimentIntensityAnalyzer()\n",
        "\n",
        "import pandas as pd"
      ],
      "metadata": {
        "colab": {
          "base_uri": "https://localhost:8080/"
        },
        "id": "98mmBGHbnakn",
        "outputId": "fc55ad42-55bf-476b-d4be-b985625a6e59"
      },
      "execution_count": null,
      "outputs": [
        {
          "output_type": "stream",
          "name": "stderr",
          "text": [
            "[nltk_data] Downloading package vader_lexicon to /root/nltk_data...\n"
          ]
        }
      ]
    },
    {
      "cell_type": "code",
      "source": [
        "#masukan data hasil preprocessing\n",
        "df = pd.read_csv('preprocessing.csv')\n",
        "df.head()"
      ],
      "metadata": {
        "id": "gflXdqh-ndn9"
      },
      "execution_count": null,
      "outputs": []
    },
    {
      "cell_type": "code",
      "source": [
        "# cari bahasa\n",
        "lang_df = pd.DataFrame.from_dict(googletrans.LANGUAGES,  orient='index', columns=['Language'])\n",
        "lang_df.head()"
      ],
      "metadata": {
        "id": "HCKZWY6knjyM"
      },
      "execution_count": null,
      "outputs": []
    },
    {
      "cell_type": "code",
      "source": [
        "# cari code indonesia, dan inggris\n",
        "lang_df[lang_df.Language.isin(['english', 'indonesian'])]"
      ],
      "metadata": {
        "id": "_UAoq2csnmJE"
      },
      "execution_count": null,
      "outputs": []
    },
    {
      "cell_type": "code",
      "source": [
        "translate = pd.DataFrame(df['stemming']) #disini labelin menggunakan kolom stemming/hasil akhir dari preprocessing data\n",
        "translate['english_stemming'] = translate['stemming'].apply(lambda x: translator.translate(x, src='id', dest='en').text)\n",
        "translate.head()"
      ],
      "metadata": {
        "id": "dMoLqwqZnn-L"
      },
      "execution_count": null,
      "outputs": []
    },
    {
      "cell_type": "code",
      "source": [
        "#proses pengskoran/pembobotan kata\n",
        "\n",
        "sid.polarity_scores(translate.loc[0]['english_stemming'])\n",
        "translate['scores'] = translate['english_stemming'].apply(lambda x : sid.polarity_scores(str(x)))\n",
        "translate.head()"
      ],
      "metadata": {
        "id": "5rBcd4kSom7u"
      },
      "execution_count": null,
      "outputs": []
    },
    {
      "cell_type": "code",
      "source": [
        "#penjumlahan skor\n",
        "translate['compound']  = translate['scores'].apply(lambda score_dict: score_dict['compound'])\n",
        "\n",
        "translate.head()"
      ],
      "metadata": {
        "id": "QaJvZZvMopIb"
      },
      "execution_count": null,
      "outputs": []
    },
    {
      "cell_type": "code",
      "source": [
        "#pelabelan skor dengan 2 kelas\n",
        "def condition(c):\n",
        "    if c>=0.0000:\n",
        "        return \"positif\"\n",
        "    else:\n",
        "        return 'negatif'\n",
        "\n",
        "translate['sentimen'] = translate['compound'].apply(condition)\n",
        "\n",
        "translate.head()"
      ],
      "metadata": {
        "id": "kUShVKcbovuV"
      },
      "execution_count": null,
      "outputs": []
    },
    {
      "cell_type": "code",
      "source": [
        "#menghapus kolom translate\n",
        "#del(translate[\"english_stemming\"])\n",
        "#translate.head()"
      ],
      "metadata": {
        "id": "pKKt61YjoyZT"
      },
      "execution_count": null,
      "outputs": []
    },
    {
      "cell_type": "code",
      "source": [
        "#simpan kedalam csv\n",
        "translate.to_csv('labelin_sentimen.csv', sep=',', index=False)"
      ],
      "metadata": {
        "id": "EtdG5XRRo20v"
      },
      "execution_count": null,
      "outputs": []
    }
  ]
}