{
  "cells": [
    {
      "cell_type": "code",
      "execution_count": null,
      "metadata": {
        "id": "oevybCSX8jw8"
      },
      "outputs": [],
      "source": [
        "#import modul\n",
        "import pandas as pd\n",
        "import numpy as np"
      ]
    },
    {
      "cell_type": "code",
      "execution_count": null,
      "metadata": {
        "id": "DlXvMpuZ9IqR"
      },
      "outputs": [],
      "source": [
        "#panggil data\n",
        "df = pd.read_csv('labelin_sentimen.csv')\n",
        "df.head()"
      ]
    },
    {
      "cell_type": "code",
      "execution_count": null,
      "metadata": {
        "id": "osVb7vqM9MVK"
      },
      "outputs": [],
      "source": [
        "#konversi sentiment ke polaritas\n",
        "def convert(polarity):\n",
        "    if polarity == 'positif':\n",
        "        return 1\n",
        "    else:\n",
        "        return -1\n",
        "\n",
        "df['polarity'] = df['sentimen'].apply(convert)\n",
        "df.head()"
      ]
    },
    {
      "cell_type": "code",
      "execution_count": null,
      "metadata": {
        "id": "Dy3keZmj9Q5O"
      },
      "outputs": [],
      "source": [
        "#save file polarity\n",
        "df.to_csv('data_klasifikasi.csv', sep=',', index=False)"
      ]
    },
    {
      "cell_type": "code",
      "execution_count": null,
      "metadata": {
        "id": "bIueaasn9WCU"
      },
      "outputs": [],
      "source": [
        "#melihat banyak sentimen pada kolom label\n",
        "df['sentimen'].value_counts()"
      ]
    },
    {
      "cell_type": "code",
      "execution_count": null,
      "metadata": {
        "id": "oEtLIY2g9Yfw"
      },
      "outputs": [],
      "source": [
        "#jumlah data\n",
        "df.shape"
      ]
    },
    {
      "cell_type": "code",
      "execution_count": null,
      "metadata": {
        "id": "7wVIT8EV_zpa"
      },
      "outputs": [],
      "source": [
        "#masukan data yang sudah disave tadi\n",
        "df = pd.read_csv('data_klasifikasi.csv', encoding = 'utf-8')\n",
        "df.head()"
      ]
    },
    {
      "cell_type": "code",
      "execution_count": null,
      "metadata": {
        "id": "r5nUjRZN_7VD"
      },
      "outputs": [],
      "source": [
        "#Set nilai X dan Y\n",
        "X = df['stemming']\n",
        "y = df['polarity']"
      ]
    },
    {
      "cell_type": "code",
      "execution_count": null,
      "metadata": {
        "id": "ityXGIiAAECn"
      },
      "outputs": [],
      "source": [
        "#spliting data untuk data train dan data test\n",
        "from sklearn.model_selection import train_test_split\n",
        "#pengujian dengan perbandingan 20:80\n",
        "X_train, X_test, y_train, y_test = train_test_split(X, y, test_size=0.2, random_state=386)"
      ]
    },
    {
      "cell_type": "code",
      "execution_count": null,
      "metadata": {
        "id": "R7vNhl80AWzv"
      },
      "outputs": [],
      "source": [
        "#KLASIFIKASI SVM\n",
        "\n",
        "from sklearn.feature_extraction.text import TfidfVectorizer\n",
        "from sklearn.svm import SVC\n",
        "from sklearn.metrics import classification_report\n",
        "\n",
        "#TF-IDF vectorizer\n",
        "vectorizer = TfidfVectorizer()\n",
        "X_train_tfidf = vectorizer.fit_transform(X_train.values.astype('U'))\n",
        "X_test_tfidf = vectorizer.transform(X_test)\n",
        "\n",
        "# Klasifikasi SVM dengan kernel linear\n",
        "svm = SVC(kernel='linear')\n",
        "\n",
        "svm.fit(X_train_tfidf, y_train)\n",
        "\n",
        "# Prediksi sentimen pada data test dengan SVM\n",
        "y_pred = svm.predict(X_test_tfidf)\n",
        "\n",
        "# Lihat clasification report\n",
        "print(classification_report(y_test, y_pred))"
      ]
    },
    {
      "cell_type": "code",
      "execution_count": null,
      "metadata": {
        "id": "BIA10VwiAbos"
      },
      "outputs": [],
      "source": [
        "from sklearn.metrics import accuracy_score\n",
        "accuracy = accuracy_score(y_test, y_pred)\n",
        "print(\"Akurasi:\", accuracy)"
      ]
    },
    {
      "cell_type": "code",
      "execution_count": null,
      "metadata": {
        "id": "XMlkQt8AApXV"
      },
      "outputs": [],
      "source": [
        "len(X_train) #jumlah data train"
      ]
    },
    {
      "cell_type": "code",
      "execution_count": null,
      "metadata": {
        "id": "mqam48ovArmv"
      },
      "outputs": [],
      "source": [
        "import matplotlib.pyplot as plt\n",
        "from sklearn.metrics import confusion_matrix\n",
        "import seaborn as sns\n",
        "\n",
        "plt.figure(dpi=100)\n",
        "mat = confusion_matrix(y_test, y_pred)\n",
        "sns.heatmap(mat.T, annot=True, fmt='d', cbar=False)\n",
        "plt.title('Confussion Matrix SVM kernel RBF')\n",
        "plt.xlabel('true label')\n",
        "plt.ylabel('predicted tabel')\n",
        "plt.show()"
      ]
    }
  ],
  "metadata": {
    "colab": {
      "provenance": []
    },
    "kernelspec": {
      "display_name": "Python 3",
      "name": "python3"
    },
    "language_info": {
      "name": "python"
    }
  },
  "nbformat": 4,
  "nbformat_minor": 0
}