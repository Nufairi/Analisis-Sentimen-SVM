{
  "nbformat": 4,
  "nbformat_minor": 0,
  "metadata": {
    "colab": {
      "provenance": []
    },
    "kernelspec": {
      "name": "python3",
      "display_name": "Python 3"
    },
    "language_info": {
      "name": "python"
    }
  },
  "cells": [
    {
      "cell_type": "code",
      "source": [
        "!pip install google-play-scraper\n",
        "\n",
        "from google_play_scraper import app\n",
        "import pandas as pd\n",
        "import numpy as np\n",
        "from google_play_scraper import Sort, reviews\n",
        "\n",
        "result, continuation_token = reviews(\n",
        "    'com.instagram.barcelona',\n",
        "    lang='id',\n",
        "    country='id',\n",
        "    sort=Sort.MOST_RELEVANT,\n",
        "    count=2000,\n",
        "    filter_score_with=None\n",
        ")\n",
        "df_busu = pd.DataFrame(np.array(result),columns=['review'])\n",
        "df_busu = df_busu.join(pd.DataFrame(df_busu.pop('review').tolist()))\n",
        "\n",
        "new_df = df_busu[['userName', 'score','at', 'content']]\n",
        "sorted_df = new_df.sort_values(by='at', ascending=False)\n",
        "sorted_df.to_csv(\"threads.csv\", index = False)\n",
        "\n",
        "df = pd.read_csv('threads.csv', encoding = 'unicode_escape')"
      ],
      "metadata": {
        "id": "37PuDOB-lmfj",
        "colab": {
          "base_uri": "https://localhost:8080/"
        },
        "outputId": "966b24ea-5d95-4b78-87fc-a9ac5cd29094"
      },
      "execution_count": null,
      "outputs": [
        {
          "output_type": "stream",
          "name": "stdout",
          "text": [
            "Requirement already satisfied: google-play-scraper in /usr/local/lib/python3.10/dist-packages (1.2.4)\n"
          ]
        }
      ]
    },
    {
      "cell_type": "code",
      "source": [],
      "metadata": {
        "id": "ypL3Eh0mlvE7"
      },
      "execution_count": null,
      "outputs": []
    }
  ]
}